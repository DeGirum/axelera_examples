{
 "cells": [
  {
   "cell_type": "markdown",
   "metadata": {},
   "source": [
    "### Object detection with class filtering on an image\n",
    "This notebook is a simple example of how to use DeGirum PySDK on Axelera hardware to do object detection AI inference on an image file filtering only desired set of classes."
   ]
  },
  {
   "cell_type": "code",
   "execution_count": null,
   "metadata": {},
   "outputs": [],
   "source": [
    "import degirum as dg, degirum_tools\n",
    "\n",
    "inference_host_address = \"@cloud\"\n",
    "zoo_url = 'degirum/axelera'\n",
    "token='dg_AunvRo5k1FNaH7jqzziPKrFoCFD9JRf1nC3L1'\n",
    "device_type=['AXELERA/METIS']\n",
    "\n",
    "# specify model name, image source and desired classes\n",
    "model_name = \"yolov8n_coco--640x640_quant_axelera_metis_1\"\n",
    "image_source = \"../assets/bikes.jpg\"\n",
    "classes = {\"bicycle\"}\n",
    "\n",
    "# load model with set desired classes for output\n",
    "model = dg.load_model(\n",
    "    model_name=model_name,\n",
    "    inference_host_address=inference_host_address,\n",
    "    zoo_url=zoo_url,\n",
    "    token=token,\n",
    "    output_class_set = classes\n",
    ")\n",
    "\n",
    "# Run AI model on image\n",
    "inference_result = model(image_source)\n",
    "\n",
    "# print AI inference results\n",
    "print(inference_result)\n",
    "\n",
    "# AI prediction: show only desired classes\n",
    "with degirum_tools.Display(\"All classes (press 'q' to exit)\") as output_display:\n",
    "    output_display.show_image(inference_result)"
   ]
  }
 ],
 "metadata": {
  "kernelspec": {
   "display_name": "Python 3",
   "language": "python",
   "name": "python3"
  },
  "language_info": {
   "codemirror_mode": {
    "name": "ipython",
    "version": 3
   },
   "file_extension": ".py",
   "mimetype": "text/x-python",
   "name": "python",
   "nbconvert_exporter": "python",
   "pygments_lexer": "ipython3",
   "version": "3.11.9"
  }
 },
 "nbformat": 4,
 "nbformat_minor": 2
}
