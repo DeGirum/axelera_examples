{
 "cells": [
  {
   "cell_type": "markdown",
   "metadata": {},
   "source": [
    "## Oriented Bounding-Box (OBB) Detection Inference with DeGirum PySDK\n",
    "This notebook demonstrates OBB detection using DeGirum Pysdk on Axelera hardware."
   ]
  },
  {
   "cell_type": "code",
   "execution_count": null,
   "metadata": {},
   "outputs": [],
   "source": [
    "# import degirum and degirum_tools\n",
    "import degirum as dg, degirum_tools\n",
    "\n",
    "inference_host_address = \"@local\"\n",
    "zoo_url = \"degirum/axelera\"\n",
    "token = ''\n",
    "device_type = \"AXELERA/METIS\"\n",
    "\n",
    "# set model name\n",
    "model_name = \"yolov8n_dota_obb--1024x1024_quant_axelera_metis_1\"\n",
    "\n",
    "# choose image source\n",
    "image_source = \"../assets/ParkingLot.jpg\"\n",
    "\n",
    "# load AI model\n",
    "model = dg.load_model(\n",
    "    model_name=model_name,\n",
    "    inference_host_address=inference_host_address,\n",
    "    zoo_url=zoo_url,\n",
    "    token=token,\n",
    "    device_type=device_type,    \n",
    ")\n",
    "\n",
    "# perform AI model inference on given image source\n",
    "print(f\" Running inference using '{model_name}' on image source '{image_source}'\")\n",
    "inference_result = model(image_source)\n",
    "\n",
    "# print('Inference Results \\n', inference_result)  # numeric results\n",
    "print(inference_result)\n",
    "print(\"Press 'x' or 'q' to stop.\")\n",
    "\n",
    "# show results of inference\n",
    "with degirum_tools.Display(\"AI Camera\") as output_display:\n",
    "    output_display.show_image(inference_result.image_overlay)"
   ]
  }
 ],
 "metadata": {
  "kernelspec": {
   "display_name": "Python 3",
   "language": "python",
   "name": "python3"
  },
  "language_info": {
   "codemirror_mode": {
    "name": "ipython",
    "version": 3
   },
   "file_extension": ".py",
   "mimetype": "text/x-python",
   "name": "python",
   "nbconvert_exporter": "python",
   "pygments_lexer": "ipython3",
   "version": "3.11.9"
  }
 },
 "nbformat": 4,
 "nbformat_minor": 2
}
