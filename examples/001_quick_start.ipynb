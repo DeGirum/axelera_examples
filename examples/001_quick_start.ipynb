{
 "cells": [
  {
   "cell_type": "markdown",
   "metadata": {},
   "source": [
    "### DeGirum PySDK Tutorial for AXELERA/METIS\n",
    "In this notebook, we illustrate the main features of PySDK and how it can be used to quickly develop edge AI applications using the `AXELERA/METIS` accelerator. See [Setup Instructions for PySDK Notebooks](../README.md#setup-instructions-for-pysdk-notebooks). \n",
    "\n",
    "DeGirum's PySDK provides simple APIs to run AI model inference. In general, there are three steps in running an AI model:\n",
    "1. Loading model using `degirum.load_model` method\n",
    "2. Running inference on an input using the `model.predict` method \n",
    "3. Visualizing inference results using the `results.image_overlay` method"
   ]
  },
  {
   "cell_type": "code",
   "execution_count": 1,
   "metadata": {},
   "outputs": [
    {
     "name": "stdout",
     "output_type": "stream",
     "text": [
      " Running inference using 'yolov8n_coco--640x640_quant_axelera_metis_1' on image source '../assets/ThreePersons.jpg'\n",
      "- bbox: [420.62939453125, 21.799697875976562, 638.924072265625, 348.4468994140625]\n",
      "  category_id: 0\n",
      "  label: person\n",
      "  score: 0.8183054327964783\n",
      "- bbox: [47.199005126953125, 8.872802734375, 263.451904296875, 420.516845703125]\n",
      "  category_id: 0\n",
      "  label: person\n",
      "  score: 0.7632325291633606\n",
      "- bbox: [259.21392822265625, 43.8323974609375, 452.64617919921875, 397.295166015625]\n",
      "  category_id: 0\n",
      "  label: person\n",
      "  score: 0.7317014932632446\n",
      "- bbox: [58.47503662109375, 10.987380981445312, 476.65435791015625, 414.02716064453125]\n",
      "  category_id: 0\n",
      "  label: person\n",
      "  score: 0.338754802942276\n",
      "\n",
      "Press 'x' or 'q' to stop.\n"
     ]
    }
   ],
   "source": [
    "# import degirum and degirum_tools\n",
    "import degirum as dg, degirum_tools\n",
    "\n",
    "inference_host_address = \"@cloud\"\n",
    "zoo_url = 'degirum/axelera' \n",
    "token='dg_AunvRo5k1FNaH7jqzziPKrFoCFD9JRf1nC3L1'\n",
    "device_type='AXELERA/METIS'\n",
    "\n",
    "# set model name, and image source\n",
    "model_name = \"yolov8n_coco--640x640_quant_axelera_metis_1\"\n",
    "image_source='../assets/ThreePersons.jpg'\n",
    "\n",
    "# load AI model\n",
    "model = dg.load_model(\n",
    "    model_name=model_name,\n",
    "    inference_host_address=inference_host_address,\n",
    "    zoo_url=zoo_url,\n",
    "    token=token,\n",
    "    device_type=device_type,    \n",
    ")\n",
    "\n",
    "# perform AI model inference on given image source\n",
    "print(f\" Running inference using '{model_name}' on image source '{image_source}'\")\n",
    "inference_result = model(image_source)\n",
    "\n",
    "# print('Inference Results \\n', inference_result)  # numeric results\n",
    "print(inference_result)\n",
    "print(\"Press 'x' or 'q' to stop.\")\n",
    "\n",
    "# show results of inference\n",
    "with degirum_tools.Display(\"AI Camera\") as output_display:\n",
    "    output_display.show_image(inference_result.image_overlay)"
   ]
  },
  {
   "cell_type": "markdown",
   "metadata": {},
   "source": [
    "#### Running Inference on Video Stream\n",
    "- The `predict_stream` function in `degirum_tools` provides a powerful and efficient way to perform AI inference on video streams in real-time. It processes video frames sequentially and returns inference results frame by frame, enabling seamless integration with various video input sources.\n",
    "- The code below shows how to use `predict_stream` on a video file."
   ]
  },
  {
   "cell_type": "code",
   "execution_count": 2,
   "metadata": {},
   "outputs": [],
   "source": [
    "import degirum as dg, degirum_tools\n",
    "\n",
    "inference_host_address = \"@cloud\"\n",
    "zoo_url = 'degirum/axelera'\n",
    "token='dg_AunvRo5k1FNaH7jqzziPKrFoCFD9JRf1nC3L1'\n",
    "device_type='AXELERA/METIS'\n",
    "\n",
    "model_name = \"yolov8n_coco--640x640_quant_axelera_metis_1\"\n",
    "video_source = '../assets/Traffic.mp4'\n",
    "\n",
    "# load AI model\n",
    "model = dg.load_model(\n",
    "    model_name=model_name,\n",
    "    inference_host_address=inference_host_address,\n",
    "    zoo_url=zoo_url,\n",
    "    token=token,\n",
    "    device_type=device_type\n",
    ")\n",
    "\n",
    "with degirum_tools.Display(\"AI Camera\") as output_display:\n",
    "    for inference_result in degirum_tools.predict_stream(model, video_source):\n",
    "        output_display.show(inference_result)"
   ]
  },
  {
   "cell_type": "markdown",
   "metadata": {},
   "source": [
    "### Listing Models \n",
    "You can explore the models available using `degirum.list_models()` method."
   ]
  },
  {
   "cell_type": "code",
   "execution_count": null,
   "metadata": {},
   "outputs": [],
   "source": [
    "import degirum as dg, degirum_tools\n",
    "\n",
    "inference_host_address = \"@cloud\"\n",
    "zoo_url = 'degirum/axelera'\n",
    "token=''\n",
    "device_type=['AXELERA/METIS']\n",
    "\n",
    "model_list=dg.list_models(\n",
    "    inference_host_address=inference_host_address,\n",
    "    zoo_url=zoo_url,\n",
    "    token=token,\n",
    "    device_type=device_type\n",
    ")\n",
    "for index, model_name in enumerate(model_list):\n",
    "    print(index, model_name)"
   ]
  },
  {
   "cell_type": "markdown",
   "metadata": {},
   "source": [
    "### Switch to local model zoo\n",
    "In this repo, we provide a `models` folder with a couple of example models. You can use the code block as a reference to run models from a local folder."
   ]
  },
  {
   "cell_type": "code",
   "execution_count": 4,
   "metadata": {},
   "outputs": [],
   "source": [
    "import degirum as dg\n",
    "\n",
    "inference_host_address = \"@local\"\n",
    "zoo_url = '../models'\n",
    "token=''\n",
    "device_type='AXELERA/METIS'\n",
    "\n",
    "model_list = dg.list_models(\n",
    "    inference_host_address=inference_host_address,\n",
    "    zoo_url=zoo_url,\n",
    "    token=token,\n",
    "    device_type=device_type \n",
    ")\n",
    "\n",
    "for model_name in model_list.keys():\n",
    "    print(model_name)"
   ]
  },
  {
   "cell_type": "code",
   "execution_count": null,
   "metadata": {},
   "outputs": [],
   "source": [
    "import degirum as dg, degirum_tools\n",
    "\n",
    "inference_host_address = \"@cloud\"\n",
    "zoo_url = '../models'\n",
    "token=''\n",
    "device_type='AXELERA/METIS'\n",
    "\n",
    "# set model name, inference host address, zoo url, token, and image source\n",
    "model_name = \"yolov8n_coco--640x640_quant_axelera_metis_1\"\n",
    "image_source='../assets/ThreePersons.jpg'\n",
    "\n",
    "# load AI model\n",
    "model = dg.load_model(\n",
    "    model_name=model_name,\n",
    "    inference_host_address=inference_host_address,\n",
    "    zoo_url='../models',\n",
    "    token=token,\n",
    "    device_type=device_type\n",
    ")\n",
    "\n",
    "# perform AI model inference on given image source\n",
    "print(f\" Running inference using '{model_name}' on image source '{image_source}'\")\n",
    "inference_result = model(image_source)\n",
    "\n",
    "# print('Inference Results \\n', inference_result)  # numeric results\n",
    "print(inference_result)\n",
    "print(\"Press 'x' or 'q' to stop.\")\n",
    "\n",
    "# show results of inference\n",
    "with degirum_tools.Display(\"AI Camera\") as output_display:\n",
    "    output_display.show_image(inference_result)"
   ]
  }
 ],
 "metadata": {
  "kernelspec": {
   "display_name": "Python 3",
   "language": "python",
   "name": "python3"
  },
  "language_info": {
   "codemirror_mode": {
    "name": "ipython",
    "version": 3
   },
   "file_extension": ".py",
   "mimetype": "text/x-python",
   "name": "python",
   "nbconvert_exporter": "python",
   "pygments_lexer": "ipython3",
   "version": "3.11.9"
  }
 },
 "nbformat": 4,
 "nbformat_minor": 2
}
